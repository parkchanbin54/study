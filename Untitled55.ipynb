{
 "cells": [
  {
   "cell_type": "code",
   "execution_count": 1,
   "metadata": {},
   "outputs": [],
   "source": [
    "def solution(a, b):\n",
    "    \"\"\"answer = 0;\n",
    "    \n",
    "    if len(a)>1000 or len(a)<1 or len(b)>1000 or len(b)<1:\n",
    "        return -1;\n",
    "\n",
    "    for i in range(len(a)):\n",
    "        if a[i]>1000 or a[i]<-1000 or b[i]>1000 or b[i]<-1000:\n",
    "            return -1\n",
    "        answer+=a[i]*b[i];\n",
    "    \n",
    "    \n",
    "    \n",
    "    return answer\"\"\"\n",
    "    return sum([x*y for x, y in zip(a,b)])"
   ]
  },
  {
   "cell_type": "code",
   "execution_count": null,
   "metadata": {},
   "outputs": [],
   "source": []
  }
 ],
 "metadata": {
  "kernelspec": {
   "display_name": "Python 3",
   "language": "python",
   "name": "python3"
  },
  "language_info": {
   "codemirror_mode": {
    "name": "ipython",
    "version": 3
   },
   "file_extension": ".py",
   "mimetype": "text/x-python",
   "name": "python",
   "nbconvert_exporter": "python",
   "pygments_lexer": "ipython3",
   "version": "3.8.5"
  }
 },
 "nbformat": 4,
 "nbformat_minor": 4
}
