{
 "cells": [
  {
   "cell_type": "code",
   "execution_count": 10,
   "metadata": {},
   "outputs": [
    {
     "name": "stdout",
     "output_type": "stream",
     "text": [
      "test0 :\n",
      ":\n"
     ]  
    }
   ],
   "source": [
    "f=open(\"test0.txt\",\"w\")\n",
    "print(\"test0 :\")\n",
    "f.write(\":\")\n",
    "f.close()\n",
    "\n",
    "f2=open(\"test0.txt\",\"r\")\n",
    "print(f2.read())\n",
    "f2.close()\n"
   ]
  },
  {
   "cell_type": "code",
   "execution_count": 30,
   "metadata": {},
   "outputs": [
    {
     "name": "stdout",
     "output_type": "stream",
     "text": [
      "Programming Language\n",
      "\n",
      "Programming Language\n",
      "Python\n",
      "Java\n",
      "React\n",
      "\n",
      "Progr\n"
     ]
    }
   ],
   "source": [
    "f=open(\"test.txt\",'w')\n",
    "f.write(\"Programming Language\\n\"\n",
    "'Python\\n'\n",
    "'Java\\n'\n",
    "'React\\n')\n",
    "\n",
    "f.close()\n",
    "\n",
    "f2=open(\"test.txt\",\"r\")\n",
    "print(f2.readline())\n",
    "f2.close()\n",
    "f2=open(\"test.txt\",\"r\")\n",
    "\n",
    "print(f2.read())\n",
    "f2.close()\n",
    "\n",
    "f2=open(\"test.txt\",\"r\")\n",
    "print(f2.read(5))"
   ]
  },
  {
   "cell_type": "code",
   "execution_count": 57,
   "metadata": {},
   "outputs": [
    {
     "name": "stdout",
     "output_type": "stream",
     "text": [
      "write the number3\n",
      "4\n",
      "a\n",
      "b\n",
      "c\n",
      "d\n",
      "write the number3\n",
      "!!!!defg\n",
      "d\n",
      "e\n",
      "f\n",
      "g\n",
      "abcd   abcd\n",
      "equal\n"
     ]
    }
   ],
   "source": [
    "f=open(\"original.txt\",'w')\n",
    "dd=int(input(\"write the number\"))\n",
    "f.write(\"abcd\")\n",
    "f.close()\n",
    "\n",
    "f=open(\"cypher.txt\",'w')\n",
    "f2=open(\"original.txt\",'r')\n",
    "t=f2.read()\n",
    "c=''\n",
    "print(len(t))\n",
    "for i in range(len(t)):\n",
    "    print(t[i])\n",
    "    c=c+(chr(ord(t[i])+dd))\n",
    "f.write(c)\n",
    "f2.close()\n",
    "f.close()\n",
    "\n",
    "f=open(\"cypher.txt\",'r')\n",
    "dd=int(input(\"write the number\"))\n",
    "cc=f.read()\n",
    "print(\"!!!!\"+cc)\n",
    "ccc=\"\"\n",
    "for i in range(len(cc)):\n",
    "    print(cc[i])\n",
    "    ccc=ccc+(chr(ord(cc[i])-dd))\n",
    "f2=open(\"decrypted.txt\",'w')\n",
    "f2.write(ccc)\n",
    "\n",
    "f.close()\n",
    "f2.close()\n",
    "f=open(\"original.txt\",'r')\n",
    "f2=open(\"decrypted.txt\",'r')\n",
    "c1=f.read()\n",
    "c2=f2.read()\n",
    "print(c1+\"   \"+c2)\n",
    "if c1==c2:\n",
    "    print(\"equal\")\n",
    "else:\n",
    "    print(\"def\")"
   ]
  },
  {
   "cell_type": "code",
   "execution_count": null,
   "metadata": {},
   "outputs": [],
   "source": []
  },
  {
   "cell_type": "code",
   "execution_count": null,
   "metadata": {},
   "outputs": [],
   "source": []
  }
 ],
 "metadata": {
  "kernelspec": {
   "display_name": "Python 3",
   "language": "python",
   "name": "python3"
  },
  "language_info": {
   "codemirror_mode": {
    "name": "ipython",
    "version": 3
   },
   "file_extension": ".py",
   "mimetype": "text/x-python",
   "name": "python",
   "nbconvert_exporter": "python",
   "pygments_lexer": "ipython3",
   "version": "3.8.5"
  }
 },
 "nbformat": 4,
 "nbformat_minor": 4
}
