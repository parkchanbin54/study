{
 "cells": [
  {
   "cell_type": "code",
   "execution_count": 86,
   "metadata": {
    "scrolled": true
   },
   "outputs": [
    {
     "name": "stdout",
     "output_type": "stream",
     "text": [
      "FBABD\n"
     ]
    }
   ],
   "source": [
    "def solution(scores):\n",
    "    b=[0]*len(scores)\n",
    "    result=[0]*len(scores[0])\n",
    "    for i in range(len(scores)):\n",
    "        b[i]=[row[i] for row in scores] \n",
    "    for i in range(len(b[0])):\n",
    "        total=0;\n",
    "        check=0;\n",
    "        if max(b[i])==b[i][i] or min(b[i])==b[i][i]:\n",
    "            \n",
    "            check=1;\n",
    "        for j in range(len(b)):\n",
    "            if b[i][i]==b[i][j] and i!=j:\n",
    "                check=0;\n",
    "            total+=b[i][j];\n",
    "        if check==1:\n",
    "            result[i]=(total-b[i][i])/(len(b)-1);   \n",
    "        else:\n",
    "            result[i]=total/len(b);\n",
    "        \n",
    "    answer='';\n",
    "\n",
    "    for i in range(len(result)):\n",
    "        if result[i]>=90:\n",
    "            answer+=('A');\n",
    "            continue;\n",
    "        elif result[i]>=80:\n",
    "            answer+=('B');\n",
    "            continue;\n",
    "        elif result[i]>=70:\n",
    "            answer+=('C');\n",
    "            continue;\n",
    "        elif result[i]>=50:\n",
    "            answer+=('D');\n",
    "            continue;\n",
    "        else:\n",
    "            answer+=('F');\n",
    "\n",
    "    return answer"
   ]
  },
  {
   "cell_type": "code",
   "execution_count": 15,
   "metadata": {},
   "outputs": [
    {
     "data": {
      "text/plain": [
       "[2, 3, 4]"
      ]
     },
     "execution_count": 15,
     "metadata": {},
     "output_type": "execute_result"
    }
   ],
   "source": []
  }
 ],
 "metadata": {
  "kernelspec": {
   "display_name": "Python 3",
   "language": "python",
   "name": "python3"
  },
  "language_info": {
   "codemirror_mode": {
    "name": "ipython",
    "version": 3
   },
   "file_extension": ".py",
   "mimetype": "text/x-python",
   "name": "python",
   "nbconvert_exporter": "python",
   "pygments_lexer": "ipython3",
   "version": "3.8.5"
  }
 },
 "nbformat": 4,
 "nbformat_minor": 4
}
