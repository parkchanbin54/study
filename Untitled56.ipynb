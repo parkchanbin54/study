{
 "cells": [
  {
   "cell_type": "code",
   "execution_count": 76,
   "metadata": {},
   "outputs": [],
   "source": [
    "def solution(array,commands):\n",
    "    answer=[]\n",
    "    for k in range (len(commands)):\n",
    "        s=array[commands[k][0]-1:commands[k][1]];\n",
    "        for i in range (len(s)):\n",
    "            for j in range (len(s)-1):\n",
    "                if s[j]>s[i]:\n",
    "                    tmp=s[j];\n",
    "                    s[j]=s[i];\n",
    "                    s[i]=tmp;\n",
    "        print(commands[k][2])\n",
    "        print(s)\n",
    "        answer.append(s[(commands[k][2])-1]);\n",
    "    return answer"
   ]
  },
  {
   "cell_type": "code",
   "execution_count": 77,
   "metadata": {},
   "outputs": [
    {
     "name": "stdout",
     "output_type": "stream",
     "text": [
      "3\n",
      "[2, 3, 5, 6]\n",
      "1\n",
      "[6]\n",
      "3\n",
      "[1, 2, 3, 4, 5, 6, 7]\n"
     ]
    },
    {
     "data": {
      "text/plain": [
       "[5, 6, 3]"
      ]
     },
     "execution_count": 77,
     "metadata": {},
     "output_type": "execute_result"
    }
   ],
   "source": [
    "solution([1, 5, 2, 6, 3, 7, 4],[[2, 5, 3], [4, 4, 1], [1, 7, 3]])"
   ]
  }
 ],
 "metadata": {
  "kernelspec": {
   "display_name": "Python 3",
   "language": "python",
   "name": "python3"
  },
  "language_info": {
   "codemirror_mode": {
    "name": "ipython",
    "version": 3
   },
   "file_extension": ".py",
   "mimetype": "text/x-python",
   "name": "python",
   "nbconvert_exporter": "python",
   "pygments_lexer": "ipython3",
   "version": "3.8.5"
  }
 },
 "nbformat": 4,
 "nbformat_minor": 4
}
