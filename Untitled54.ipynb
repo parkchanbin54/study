{
 "cells": [
  {
   "cell_type": "code",
   "execution_count": 1,
   "metadata": {},
   "outputs": [],
   "source": [
    "def solution(price, money, count):\n",
    "    if price>2500 or price<1:\n",
    "        return -1;\n",
    "    if money>1000000000 or money<1:\n",
    "        return -1;\n",
    "    if count<1 or count>2500:\n",
    "        return -1;\n",
    "    \n",
    "    tmptotal=0;\n",
    "    while count>0:\n",
    "        tmptotal+=price*count;\n",
    "        count-=1;\n",
    "    \n",
    "    answer = tmptotal-money\n",
    "    \n",
    "    if answer<0:\n",
    "        return 0;\n",
    "\n",
    "    return answer"
   ]
  },
  {
   "cell_type": "code",
   "execution_count": null,
   "metadata": {},
   "outputs": [],
   "source": []
  }
 ],
 "metadata": {
  "kernelspec": {
   "display_name": "Python 3",
   "language": "python",
   "name": "python3"
  },
  "language_info": {
   "codemirror_mode": {
    "name": "ipython",
    "version": 3
   },
   "file_extension": ".py",
   "mimetype": "text/x-python",
   "name": "python",
   "nbconvert_exporter": "python",
   "pygments_lexer": "ipython3",
   "version": "3.8.5"
  }
 },
 "nbformat": 4,
 "nbformat_minor": 4
}
